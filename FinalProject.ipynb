{
  "cells": [
    {
      "cell_type": "markdown",
      "metadata": {
        "id": "X8PSAZgYEtdb"
      },
      "source": [
        "# **Final Project**\n",
        "## Big Data Analysis and Visualization in Python\n",
        "## Group 1\n",
        "## Name: Sudhan Shrestha (Student ID: 8889436)\n",
        "## Name: Jose Encarnacion (Student ID: 8982860)\n"
      ]
    },
    {
      "cell_type": "code",
      "execution_count": 1,
      "metadata": {
        "id": "4-2Um6X6EpZm"
      },
      "outputs": [],
      "source": [
        "import pandas as pd\n",
        "import numpy as np\n",
        "import matplotlib.pyplot as plt\n",
        "import seaborn as sns"
      ]
    },
    {
      "cell_type": "markdown",
      "metadata": {
        "id": "ae7xY7YFF15v"
      },
      "source": [
        "# **Part I: Data Overview**"
      ]
    },
    {
      "cell_type": "markdown",
      "metadata": {
        "id": "qCdDNRw1F40I"
      },
      "source": [
        "1. Use the pandas library to read the data file and to create the data frame."
      ]
    },
    {
      "cell_type": "code",
      "execution_count": 2,
      "metadata": {
        "id": "_gBgfOh_FEfM"
      },
      "outputs": [
        {
          "data": {
            "text/html": [
              "<div>\n",
              "<style scoped>\n",
              "    .dataframe tbody tr th:only-of-type {\n",
              "        vertical-align: middle;\n",
              "    }\n",
              "\n",
              "    .dataframe tbody tr th {\n",
              "        vertical-align: top;\n",
              "    }\n",
              "\n",
              "    .dataframe thead th {\n",
              "        text-align: right;\n",
              "    }\n",
              "</style>\n",
              "<table border=\"1\" class=\"dataframe\">\n",
              "  <thead>\n",
              "    <tr style=\"text-align: right;\">\n",
              "      <th></th>\n",
              "      <th>ID</th>\n",
              "      <th>Year_Birth</th>\n",
              "      <th>Education</th>\n",
              "      <th>Marital_Status</th>\n",
              "      <th>Income</th>\n",
              "      <th>Kidhome</th>\n",
              "      <th>Teenhome</th>\n",
              "      <th>Dt_Customer</th>\n",
              "      <th>Recency</th>\n",
              "      <th>MntWines</th>\n",
              "      <th>...</th>\n",
              "      <th>NumWebVisitsMonth</th>\n",
              "      <th>AcceptedCmp3</th>\n",
              "      <th>AcceptedCmp4</th>\n",
              "      <th>AcceptedCmp5</th>\n",
              "      <th>AcceptedCmp1</th>\n",
              "      <th>AcceptedCmp2</th>\n",
              "      <th>Complain</th>\n",
              "      <th>Z_CostContact</th>\n",
              "      <th>Z_Revenue</th>\n",
              "      <th>Response</th>\n",
              "    </tr>\n",
              "  </thead>\n",
              "  <tbody>\n",
              "    <tr>\n",
              "      <th>0</th>\n",
              "      <td>5524</td>\n",
              "      <td>1957</td>\n",
              "      <td>Graduation</td>\n",
              "      <td>Single</td>\n",
              "      <td>58138.0</td>\n",
              "      <td>0</td>\n",
              "      <td>0</td>\n",
              "      <td>04-09-2012</td>\n",
              "      <td>58</td>\n",
              "      <td>635</td>\n",
              "      <td>...</td>\n",
              "      <td>7</td>\n",
              "      <td>0</td>\n",
              "      <td>0</td>\n",
              "      <td>0</td>\n",
              "      <td>0</td>\n",
              "      <td>0</td>\n",
              "      <td>0</td>\n",
              "      <td>3</td>\n",
              "      <td>11</td>\n",
              "      <td>1</td>\n",
              "    </tr>\n",
              "    <tr>\n",
              "      <th>1</th>\n",
              "      <td>2174</td>\n",
              "      <td>1954</td>\n",
              "      <td>Graduation</td>\n",
              "      <td>Single</td>\n",
              "      <td>46344.0</td>\n",
              "      <td>1</td>\n",
              "      <td>1</td>\n",
              "      <td>08-03-2014</td>\n",
              "      <td>38</td>\n",
              "      <td>11</td>\n",
              "      <td>...</td>\n",
              "      <td>5</td>\n",
              "      <td>0</td>\n",
              "      <td>0</td>\n",
              "      <td>0</td>\n",
              "      <td>0</td>\n",
              "      <td>0</td>\n",
              "      <td>0</td>\n",
              "      <td>3</td>\n",
              "      <td>11</td>\n",
              "      <td>0</td>\n",
              "    </tr>\n",
              "    <tr>\n",
              "      <th>2</th>\n",
              "      <td>4141</td>\n",
              "      <td>1965</td>\n",
              "      <td>Graduation</td>\n",
              "      <td>Together</td>\n",
              "      <td>71613.0</td>\n",
              "      <td>0</td>\n",
              "      <td>0</td>\n",
              "      <td>21-08-2013</td>\n",
              "      <td>26</td>\n",
              "      <td>426</td>\n",
              "      <td>...</td>\n",
              "      <td>4</td>\n",
              "      <td>0</td>\n",
              "      <td>0</td>\n",
              "      <td>0</td>\n",
              "      <td>0</td>\n",
              "      <td>0</td>\n",
              "      <td>0</td>\n",
              "      <td>3</td>\n",
              "      <td>11</td>\n",
              "      <td>0</td>\n",
              "    </tr>\n",
              "    <tr>\n",
              "      <th>3</th>\n",
              "      <td>6182</td>\n",
              "      <td>1984</td>\n",
              "      <td>Graduation</td>\n",
              "      <td>Together</td>\n",
              "      <td>26646.0</td>\n",
              "      <td>1</td>\n",
              "      <td>0</td>\n",
              "      <td>10-02-2014</td>\n",
              "      <td>26</td>\n",
              "      <td>11</td>\n",
              "      <td>...</td>\n",
              "      <td>6</td>\n",
              "      <td>0</td>\n",
              "      <td>0</td>\n",
              "      <td>0</td>\n",
              "      <td>0</td>\n",
              "      <td>0</td>\n",
              "      <td>0</td>\n",
              "      <td>3</td>\n",
              "      <td>11</td>\n",
              "      <td>0</td>\n",
              "    </tr>\n",
              "    <tr>\n",
              "      <th>4</th>\n",
              "      <td>5324</td>\n",
              "      <td>1981</td>\n",
              "      <td>PhD</td>\n",
              "      <td>Married</td>\n",
              "      <td>58293.0</td>\n",
              "      <td>1</td>\n",
              "      <td>0</td>\n",
              "      <td>19-01-2014</td>\n",
              "      <td>94</td>\n",
              "      <td>173</td>\n",
              "      <td>...</td>\n",
              "      <td>5</td>\n",
              "      <td>0</td>\n",
              "      <td>0</td>\n",
              "      <td>0</td>\n",
              "      <td>0</td>\n",
              "      <td>0</td>\n",
              "      <td>0</td>\n",
              "      <td>3</td>\n",
              "      <td>11</td>\n",
              "      <td>0</td>\n",
              "    </tr>\n",
              "    <tr>\n",
              "      <th>...</th>\n",
              "      <td>...</td>\n",
              "      <td>...</td>\n",
              "      <td>...</td>\n",
              "      <td>...</td>\n",
              "      <td>...</td>\n",
              "      <td>...</td>\n",
              "      <td>...</td>\n",
              "      <td>...</td>\n",
              "      <td>...</td>\n",
              "      <td>...</td>\n",
              "      <td>...</td>\n",
              "      <td>...</td>\n",
              "      <td>...</td>\n",
              "      <td>...</td>\n",
              "      <td>...</td>\n",
              "      <td>...</td>\n",
              "      <td>...</td>\n",
              "      <td>...</td>\n",
              "      <td>...</td>\n",
              "      <td>...</td>\n",
              "      <td>...</td>\n",
              "    </tr>\n",
              "    <tr>\n",
              "      <th>2235</th>\n",
              "      <td>10870</td>\n",
              "      <td>1967</td>\n",
              "      <td>Graduation</td>\n",
              "      <td>Married</td>\n",
              "      <td>61223.0</td>\n",
              "      <td>0</td>\n",
              "      <td>1</td>\n",
              "      <td>13-06-2013</td>\n",
              "      <td>46</td>\n",
              "      <td>709</td>\n",
              "      <td>...</td>\n",
              "      <td>5</td>\n",
              "      <td>0</td>\n",
              "      <td>0</td>\n",
              "      <td>0</td>\n",
              "      <td>0</td>\n",
              "      <td>0</td>\n",
              "      <td>0</td>\n",
              "      <td>3</td>\n",
              "      <td>11</td>\n",
              "      <td>0</td>\n",
              "    </tr>\n",
              "    <tr>\n",
              "      <th>2236</th>\n",
              "      <td>4001</td>\n",
              "      <td>1946</td>\n",
              "      <td>PhD</td>\n",
              "      <td>Together</td>\n",
              "      <td>64014.0</td>\n",
              "      <td>2</td>\n",
              "      <td>1</td>\n",
              "      <td>10-06-2014</td>\n",
              "      <td>56</td>\n",
              "      <td>406</td>\n",
              "      <td>...</td>\n",
              "      <td>7</td>\n",
              "      <td>0</td>\n",
              "      <td>0</td>\n",
              "      <td>0</td>\n",
              "      <td>1</td>\n",
              "      <td>0</td>\n",
              "      <td>0</td>\n",
              "      <td>3</td>\n",
              "      <td>11</td>\n",
              "      <td>0</td>\n",
              "    </tr>\n",
              "    <tr>\n",
              "      <th>2237</th>\n",
              "      <td>7270</td>\n",
              "      <td>1981</td>\n",
              "      <td>Graduation</td>\n",
              "      <td>Divorced</td>\n",
              "      <td>56981.0</td>\n",
              "      <td>0</td>\n",
              "      <td>0</td>\n",
              "      <td>25-01-2014</td>\n",
              "      <td>91</td>\n",
              "      <td>908</td>\n",
              "      <td>...</td>\n",
              "      <td>6</td>\n",
              "      <td>0</td>\n",
              "      <td>1</td>\n",
              "      <td>0</td>\n",
              "      <td>0</td>\n",
              "      <td>0</td>\n",
              "      <td>0</td>\n",
              "      <td>3</td>\n",
              "      <td>11</td>\n",
              "      <td>0</td>\n",
              "    </tr>\n",
              "    <tr>\n",
              "      <th>2238</th>\n",
              "      <td>8235</td>\n",
              "      <td>1956</td>\n",
              "      <td>Master</td>\n",
              "      <td>Together</td>\n",
              "      <td>69245.0</td>\n",
              "      <td>0</td>\n",
              "      <td>1</td>\n",
              "      <td>24-01-2014</td>\n",
              "      <td>8</td>\n",
              "      <td>428</td>\n",
              "      <td>...</td>\n",
              "      <td>3</td>\n",
              "      <td>0</td>\n",
              "      <td>0</td>\n",
              "      <td>0</td>\n",
              "      <td>0</td>\n",
              "      <td>0</td>\n",
              "      <td>0</td>\n",
              "      <td>3</td>\n",
              "      <td>11</td>\n",
              "      <td>0</td>\n",
              "    </tr>\n",
              "    <tr>\n",
              "      <th>2239</th>\n",
              "      <td>9405</td>\n",
              "      <td>1954</td>\n",
              "      <td>PhD</td>\n",
              "      <td>Married</td>\n",
              "      <td>52869.0</td>\n",
              "      <td>1</td>\n",
              "      <td>1</td>\n",
              "      <td>15-10-2012</td>\n",
              "      <td>40</td>\n",
              "      <td>84</td>\n",
              "      <td>...</td>\n",
              "      <td>7</td>\n",
              "      <td>0</td>\n",
              "      <td>0</td>\n",
              "      <td>0</td>\n",
              "      <td>0</td>\n",
              "      <td>0</td>\n",
              "      <td>0</td>\n",
              "      <td>3</td>\n",
              "      <td>11</td>\n",
              "      <td>1</td>\n",
              "    </tr>\n",
              "  </tbody>\n",
              "</table>\n",
              "<p>2240 rows × 29 columns</p>\n",
              "</div>"
            ],
            "text/plain": [
              "         ID  Year_Birth   Education Marital_Status   Income  Kidhome  \\\n",
              "0      5524        1957  Graduation         Single  58138.0        0   \n",
              "1      2174        1954  Graduation         Single  46344.0        1   \n",
              "2      4141        1965  Graduation       Together  71613.0        0   \n",
              "3      6182        1984  Graduation       Together  26646.0        1   \n",
              "4      5324        1981         PhD        Married  58293.0        1   \n",
              "...     ...         ...         ...            ...      ...      ...   \n",
              "2235  10870        1967  Graduation        Married  61223.0        0   \n",
              "2236   4001        1946         PhD       Together  64014.0        2   \n",
              "2237   7270        1981  Graduation       Divorced  56981.0        0   \n",
              "2238   8235        1956      Master       Together  69245.0        0   \n",
              "2239   9405        1954         PhD        Married  52869.0        1   \n",
              "\n",
              "      Teenhome Dt_Customer  Recency  MntWines  ...  NumWebVisitsMonth  \\\n",
              "0            0  04-09-2012       58       635  ...                  7   \n",
              "1            1  08-03-2014       38        11  ...                  5   \n",
              "2            0  21-08-2013       26       426  ...                  4   \n",
              "3            0  10-02-2014       26        11  ...                  6   \n",
              "4            0  19-01-2014       94       173  ...                  5   \n",
              "...        ...         ...      ...       ...  ...                ...   \n",
              "2235         1  13-06-2013       46       709  ...                  5   \n",
              "2236         1  10-06-2014       56       406  ...                  7   \n",
              "2237         0  25-01-2014       91       908  ...                  6   \n",
              "2238         1  24-01-2014        8       428  ...                  3   \n",
              "2239         1  15-10-2012       40        84  ...                  7   \n",
              "\n",
              "      AcceptedCmp3  AcceptedCmp4  AcceptedCmp5  AcceptedCmp1  AcceptedCmp2  \\\n",
              "0                0             0             0             0             0   \n",
              "1                0             0             0             0             0   \n",
              "2                0             0             0             0             0   \n",
              "3                0             0             0             0             0   \n",
              "4                0             0             0             0             0   \n",
              "...            ...           ...           ...           ...           ...   \n",
              "2235             0             0             0             0             0   \n",
              "2236             0             0             0             1             0   \n",
              "2237             0             1             0             0             0   \n",
              "2238             0             0             0             0             0   \n",
              "2239             0             0             0             0             0   \n",
              "\n",
              "      Complain  Z_CostContact  Z_Revenue  Response  \n",
              "0            0              3         11         1  \n",
              "1            0              3         11         0  \n",
              "2            0              3         11         0  \n",
              "3            0              3         11         0  \n",
              "4            0              3         11         0  \n",
              "...        ...            ...        ...       ...  \n",
              "2235         0              3         11         0  \n",
              "2236         0              3         11         0  \n",
              "2237         0              3         11         0  \n",
              "2238         0              3         11         0  \n",
              "2239         0              3         11         1  \n",
              "\n",
              "[2240 rows x 29 columns]"
            ]
          },
          "execution_count": 2,
          "metadata": {},
          "output_type": "execute_result"
        }
      ],
      "source": [
        "data_path ='customers.csv' # setting the path to the data file\n",
        "df = pd.read_csv(data_path, delimiter='\\t') # reading the csv file, with delimiter as tab since data are separated by tabs \n",
        "df"
      ]
    },
    {
      "cell_type": "markdown",
      "metadata": {
        "id": "4uS-VtW2GADR"
      },
      "source": [
        "2. Display the first 5 rows and the last 3 rows of your data."
      ]
    },
    {
      "cell_type": "code",
      "execution_count": 3,
      "metadata": {
        "colab": {
          "base_uri": "https://localhost:8080/",
          "height": 256
        },
        "id": "fQmMYoEjFqu9",
        "outputId": "cced674b-00cd-42af-b969-cd9b4d35ef49"
      },
      "outputs": [
        {
          "data": {
            "text/html": [
              "<div>\n",
              "<style scoped>\n",
              "    .dataframe tbody tr th:only-of-type {\n",
              "        vertical-align: middle;\n",
              "    }\n",
              "\n",
              "    .dataframe tbody tr th {\n",
              "        vertical-align: top;\n",
              "    }\n",
              "\n",
              "    .dataframe thead th {\n",
              "        text-align: right;\n",
              "    }\n",
              "</style>\n",
              "<table border=\"1\" class=\"dataframe\">\n",
              "  <thead>\n",
              "    <tr style=\"text-align: right;\">\n",
              "      <th></th>\n",
              "      <th>ID</th>\n",
              "      <th>Year_Birth</th>\n",
              "      <th>Education</th>\n",
              "      <th>Marital_Status</th>\n",
              "      <th>Income</th>\n",
              "      <th>Kidhome</th>\n",
              "      <th>Teenhome</th>\n",
              "      <th>Dt_Customer</th>\n",
              "      <th>Recency</th>\n",
              "      <th>MntWines</th>\n",
              "      <th>...</th>\n",
              "      <th>NumWebVisitsMonth</th>\n",
              "      <th>AcceptedCmp3</th>\n",
              "      <th>AcceptedCmp4</th>\n",
              "      <th>AcceptedCmp5</th>\n",
              "      <th>AcceptedCmp1</th>\n",
              "      <th>AcceptedCmp2</th>\n",
              "      <th>Complain</th>\n",
              "      <th>Z_CostContact</th>\n",
              "      <th>Z_Revenue</th>\n",
              "      <th>Response</th>\n",
              "    </tr>\n",
              "  </thead>\n",
              "  <tbody>\n",
              "    <tr>\n",
              "      <th>0</th>\n",
              "      <td>5524</td>\n",
              "      <td>1957</td>\n",
              "      <td>Graduation</td>\n",
              "      <td>Single</td>\n",
              "      <td>58138.0</td>\n",
              "      <td>0</td>\n",
              "      <td>0</td>\n",
              "      <td>04-09-2012</td>\n",
              "      <td>58</td>\n",
              "      <td>635</td>\n",
              "      <td>...</td>\n",
              "      <td>7</td>\n",
              "      <td>0</td>\n",
              "      <td>0</td>\n",
              "      <td>0</td>\n",
              "      <td>0</td>\n",
              "      <td>0</td>\n",
              "      <td>0</td>\n",
              "      <td>3</td>\n",
              "      <td>11</td>\n",
              "      <td>1</td>\n",
              "    </tr>\n",
              "    <tr>\n",
              "      <th>1</th>\n",
              "      <td>2174</td>\n",
              "      <td>1954</td>\n",
              "      <td>Graduation</td>\n",
              "      <td>Single</td>\n",
              "      <td>46344.0</td>\n",
              "      <td>1</td>\n",
              "      <td>1</td>\n",
              "      <td>08-03-2014</td>\n",
              "      <td>38</td>\n",
              "      <td>11</td>\n",
              "      <td>...</td>\n",
              "      <td>5</td>\n",
              "      <td>0</td>\n",
              "      <td>0</td>\n",
              "      <td>0</td>\n",
              "      <td>0</td>\n",
              "      <td>0</td>\n",
              "      <td>0</td>\n",
              "      <td>3</td>\n",
              "      <td>11</td>\n",
              "      <td>0</td>\n",
              "    </tr>\n",
              "    <tr>\n",
              "      <th>2</th>\n",
              "      <td>4141</td>\n",
              "      <td>1965</td>\n",
              "      <td>Graduation</td>\n",
              "      <td>Together</td>\n",
              "      <td>71613.0</td>\n",
              "      <td>0</td>\n",
              "      <td>0</td>\n",
              "      <td>21-08-2013</td>\n",
              "      <td>26</td>\n",
              "      <td>426</td>\n",
              "      <td>...</td>\n",
              "      <td>4</td>\n",
              "      <td>0</td>\n",
              "      <td>0</td>\n",
              "      <td>0</td>\n",
              "      <td>0</td>\n",
              "      <td>0</td>\n",
              "      <td>0</td>\n",
              "      <td>3</td>\n",
              "      <td>11</td>\n",
              "      <td>0</td>\n",
              "    </tr>\n",
              "    <tr>\n",
              "      <th>3</th>\n",
              "      <td>6182</td>\n",
              "      <td>1984</td>\n",
              "      <td>Graduation</td>\n",
              "      <td>Together</td>\n",
              "      <td>26646.0</td>\n",
              "      <td>1</td>\n",
              "      <td>0</td>\n",
              "      <td>10-02-2014</td>\n",
              "      <td>26</td>\n",
              "      <td>11</td>\n",
              "      <td>...</td>\n",
              "      <td>6</td>\n",
              "      <td>0</td>\n",
              "      <td>0</td>\n",
              "      <td>0</td>\n",
              "      <td>0</td>\n",
              "      <td>0</td>\n",
              "      <td>0</td>\n",
              "      <td>3</td>\n",
              "      <td>11</td>\n",
              "      <td>0</td>\n",
              "    </tr>\n",
              "    <tr>\n",
              "      <th>4</th>\n",
              "      <td>5324</td>\n",
              "      <td>1981</td>\n",
              "      <td>PhD</td>\n",
              "      <td>Married</td>\n",
              "      <td>58293.0</td>\n",
              "      <td>1</td>\n",
              "      <td>0</td>\n",
              "      <td>19-01-2014</td>\n",
              "      <td>94</td>\n",
              "      <td>173</td>\n",
              "      <td>...</td>\n",
              "      <td>5</td>\n",
              "      <td>0</td>\n",
              "      <td>0</td>\n",
              "      <td>0</td>\n",
              "      <td>0</td>\n",
              "      <td>0</td>\n",
              "      <td>0</td>\n",
              "      <td>3</td>\n",
              "      <td>11</td>\n",
              "      <td>0</td>\n",
              "    </tr>\n",
              "  </tbody>\n",
              "</table>\n",
              "<p>5 rows × 29 columns</p>\n",
              "</div>"
            ],
            "text/plain": [
              "     ID  Year_Birth   Education Marital_Status   Income  Kidhome  Teenhome  \\\n",
              "0  5524        1957  Graduation         Single  58138.0        0         0   \n",
              "1  2174        1954  Graduation         Single  46344.0        1         1   \n",
              "2  4141        1965  Graduation       Together  71613.0        0         0   \n",
              "3  6182        1984  Graduation       Together  26646.0        1         0   \n",
              "4  5324        1981         PhD        Married  58293.0        1         0   \n",
              "\n",
              "  Dt_Customer  Recency  MntWines  ...  NumWebVisitsMonth  AcceptedCmp3  \\\n",
              "0  04-09-2012       58       635  ...                  7             0   \n",
              "1  08-03-2014       38        11  ...                  5             0   \n",
              "2  21-08-2013       26       426  ...                  4             0   \n",
              "3  10-02-2014       26        11  ...                  6             0   \n",
              "4  19-01-2014       94       173  ...                  5             0   \n",
              "\n",
              "   AcceptedCmp4  AcceptedCmp5  AcceptedCmp1  AcceptedCmp2  Complain  \\\n",
              "0             0             0             0             0         0   \n",
              "1             0             0             0             0         0   \n",
              "2             0             0             0             0         0   \n",
              "3             0             0             0             0         0   \n",
              "4             0             0             0             0         0   \n",
              "\n",
              "   Z_CostContact  Z_Revenue  Response  \n",
              "0              3         11         1  \n",
              "1              3         11         0  \n",
              "2              3         11         0  \n",
              "3              3         11         0  \n",
              "4              3         11         0  \n",
              "\n",
              "[5 rows x 29 columns]"
            ]
          },
          "execution_count": 3,
          "metadata": {},
          "output_type": "execute_result"
        }
      ],
      "source": [
        "df.head() # first 5 rows of the dataframe"
      ]
    },
    {
      "cell_type": "code",
      "execution_count": 4,
      "metadata": {
        "colab": {
          "base_uri": "https://localhost:8080/",
          "height": 193
        },
        "id": "kFPEqu1pGP1a",
        "outputId": "b07320e1-237e-4d0e-d6d8-efaaacb56f3d"
      },
      "outputs": [
        {
          "data": {
            "text/html": [
              "<div>\n",
              "<style scoped>\n",
              "    .dataframe tbody tr th:only-of-type {\n",
              "        vertical-align: middle;\n",
              "    }\n",
              "\n",
              "    .dataframe tbody tr th {\n",
              "        vertical-align: top;\n",
              "    }\n",
              "\n",
              "    .dataframe thead th {\n",
              "        text-align: right;\n",
              "    }\n",
              "</style>\n",
              "<table border=\"1\" class=\"dataframe\">\n",
              "  <thead>\n",
              "    <tr style=\"text-align: right;\">\n",
              "      <th></th>\n",
              "      <th>ID</th>\n",
              "      <th>Year_Birth</th>\n",
              "      <th>Education</th>\n",
              "      <th>Marital_Status</th>\n",
              "      <th>Income</th>\n",
              "      <th>Kidhome</th>\n",
              "      <th>Teenhome</th>\n",
              "      <th>Dt_Customer</th>\n",
              "      <th>Recency</th>\n",
              "      <th>MntWines</th>\n",
              "      <th>...</th>\n",
              "      <th>NumWebVisitsMonth</th>\n",
              "      <th>AcceptedCmp3</th>\n",
              "      <th>AcceptedCmp4</th>\n",
              "      <th>AcceptedCmp5</th>\n",
              "      <th>AcceptedCmp1</th>\n",
              "      <th>AcceptedCmp2</th>\n",
              "      <th>Complain</th>\n",
              "      <th>Z_CostContact</th>\n",
              "      <th>Z_Revenue</th>\n",
              "      <th>Response</th>\n",
              "    </tr>\n",
              "  </thead>\n",
              "  <tbody>\n",
              "    <tr>\n",
              "      <th>2237</th>\n",
              "      <td>7270</td>\n",
              "      <td>1981</td>\n",
              "      <td>Graduation</td>\n",
              "      <td>Divorced</td>\n",
              "      <td>56981.0</td>\n",
              "      <td>0</td>\n",
              "      <td>0</td>\n",
              "      <td>25-01-2014</td>\n",
              "      <td>91</td>\n",
              "      <td>908</td>\n",
              "      <td>...</td>\n",
              "      <td>6</td>\n",
              "      <td>0</td>\n",
              "      <td>1</td>\n",
              "      <td>0</td>\n",
              "      <td>0</td>\n",
              "      <td>0</td>\n",
              "      <td>0</td>\n",
              "      <td>3</td>\n",
              "      <td>11</td>\n",
              "      <td>0</td>\n",
              "    </tr>\n",
              "    <tr>\n",
              "      <th>2238</th>\n",
              "      <td>8235</td>\n",
              "      <td>1956</td>\n",
              "      <td>Master</td>\n",
              "      <td>Together</td>\n",
              "      <td>69245.0</td>\n",
              "      <td>0</td>\n",
              "      <td>1</td>\n",
              "      <td>24-01-2014</td>\n",
              "      <td>8</td>\n",
              "      <td>428</td>\n",
              "      <td>...</td>\n",
              "      <td>3</td>\n",
              "      <td>0</td>\n",
              "      <td>0</td>\n",
              "      <td>0</td>\n",
              "      <td>0</td>\n",
              "      <td>0</td>\n",
              "      <td>0</td>\n",
              "      <td>3</td>\n",
              "      <td>11</td>\n",
              "      <td>0</td>\n",
              "    </tr>\n",
              "    <tr>\n",
              "      <th>2239</th>\n",
              "      <td>9405</td>\n",
              "      <td>1954</td>\n",
              "      <td>PhD</td>\n",
              "      <td>Married</td>\n",
              "      <td>52869.0</td>\n",
              "      <td>1</td>\n",
              "      <td>1</td>\n",
              "      <td>15-10-2012</td>\n",
              "      <td>40</td>\n",
              "      <td>84</td>\n",
              "      <td>...</td>\n",
              "      <td>7</td>\n",
              "      <td>0</td>\n",
              "      <td>0</td>\n",
              "      <td>0</td>\n",
              "      <td>0</td>\n",
              "      <td>0</td>\n",
              "      <td>0</td>\n",
              "      <td>3</td>\n",
              "      <td>11</td>\n",
              "      <td>1</td>\n",
              "    </tr>\n",
              "  </tbody>\n",
              "</table>\n",
              "<p>3 rows × 29 columns</p>\n",
              "</div>"
            ],
            "text/plain": [
              "        ID  Year_Birth   Education Marital_Status   Income  Kidhome  Teenhome  \\\n",
              "2237  7270        1981  Graduation       Divorced  56981.0        0         0   \n",
              "2238  8235        1956      Master       Together  69245.0        0         1   \n",
              "2239  9405        1954         PhD        Married  52869.0        1         1   \n",
              "\n",
              "     Dt_Customer  Recency  MntWines  ...  NumWebVisitsMonth  AcceptedCmp3  \\\n",
              "2237  25-01-2014       91       908  ...                  6             0   \n",
              "2238  24-01-2014        8       428  ...                  3             0   \n",
              "2239  15-10-2012       40        84  ...                  7             0   \n",
              "\n",
              "      AcceptedCmp4  AcceptedCmp5  AcceptedCmp1  AcceptedCmp2  Complain  \\\n",
              "2237             1             0             0             0         0   \n",
              "2238             0             0             0             0         0   \n",
              "2239             0             0             0             0         0   \n",
              "\n",
              "      Z_CostContact  Z_Revenue  Response  \n",
              "2237              3         11         0  \n",
              "2238              3         11         0  \n",
              "2239              3         11         1  \n",
              "\n",
              "[3 rows x 29 columns]"
            ]
          },
          "execution_count": 4,
          "metadata": {},
          "output_type": "execute_result"
        }
      ],
      "source": [
        "df.tail(3) # last 3 rows of the dataframe"
      ]
    },
    {
      "cell_type": "markdown",
      "metadata": {
        "id": "KcdMWFrIGmQ0"
      },
      "source": [
        "3. Show quick statistics of your data"
      ]
    },
    {
      "cell_type": "code",
      "execution_count": 5,
      "metadata": {
        "colab": {
          "base_uri": "https://localhost:8080/",
          "height": 350
        },
        "id": "DTGn0jc-Gg8p",
        "outputId": "42ee9c01-6ff2-4bda-ec12-b61364d100db"
      },
      "outputs": [
        {
          "data": {
            "text/html": [
              "<div>\n",
              "<style scoped>\n",
              "    .dataframe tbody tr th:only-of-type {\n",
              "        vertical-align: middle;\n",
              "    }\n",
              "\n",
              "    .dataframe tbody tr th {\n",
              "        vertical-align: top;\n",
              "    }\n",
              "\n",
              "    .dataframe thead th {\n",
              "        text-align: right;\n",
              "    }\n",
              "</style>\n",
              "<table border=\"1\" class=\"dataframe\">\n",
              "  <thead>\n",
              "    <tr style=\"text-align: right;\">\n",
              "      <th></th>\n",
              "      <th>ID</th>\n",
              "      <th>Year_Birth</th>\n",
              "      <th>Income</th>\n",
              "      <th>Kidhome</th>\n",
              "      <th>Teenhome</th>\n",
              "      <th>Recency</th>\n",
              "      <th>MntWines</th>\n",
              "      <th>MntFruits</th>\n",
              "      <th>MntMeatProducts</th>\n",
              "      <th>MntFishProducts</th>\n",
              "      <th>...</th>\n",
              "      <th>NumWebVisitsMonth</th>\n",
              "      <th>AcceptedCmp3</th>\n",
              "      <th>AcceptedCmp4</th>\n",
              "      <th>AcceptedCmp5</th>\n",
              "      <th>AcceptedCmp1</th>\n",
              "      <th>AcceptedCmp2</th>\n",
              "      <th>Complain</th>\n",
              "      <th>Z_CostContact</th>\n",
              "      <th>Z_Revenue</th>\n",
              "      <th>Response</th>\n",
              "    </tr>\n",
              "  </thead>\n",
              "  <tbody>\n",
              "    <tr>\n",
              "      <th>count</th>\n",
              "      <td>2240.000000</td>\n",
              "      <td>2240.000000</td>\n",
              "      <td>2216.000000</td>\n",
              "      <td>2240.000000</td>\n",
              "      <td>2240.000000</td>\n",
              "      <td>2240.000000</td>\n",
              "      <td>2240.000000</td>\n",
              "      <td>2240.000000</td>\n",
              "      <td>2240.000000</td>\n",
              "      <td>2240.000000</td>\n",
              "      <td>...</td>\n",
              "      <td>2240.000000</td>\n",
              "      <td>2240.000000</td>\n",
              "      <td>2240.000000</td>\n",
              "      <td>2240.000000</td>\n",
              "      <td>2240.000000</td>\n",
              "      <td>2240.000000</td>\n",
              "      <td>2240.000000</td>\n",
              "      <td>2240.0</td>\n",
              "      <td>2240.0</td>\n",
              "      <td>2240.000000</td>\n",
              "    </tr>\n",
              "    <tr>\n",
              "      <th>mean</th>\n",
              "      <td>5592.159821</td>\n",
              "      <td>1968.805804</td>\n",
              "      <td>52247.251354</td>\n",
              "      <td>0.444196</td>\n",
              "      <td>0.506250</td>\n",
              "      <td>49.109375</td>\n",
              "      <td>303.935714</td>\n",
              "      <td>26.302232</td>\n",
              "      <td>166.950000</td>\n",
              "      <td>37.525446</td>\n",
              "      <td>...</td>\n",
              "      <td>5.316518</td>\n",
              "      <td>0.072768</td>\n",
              "      <td>0.074554</td>\n",
              "      <td>0.072768</td>\n",
              "      <td>0.064286</td>\n",
              "      <td>0.013393</td>\n",
              "      <td>0.009375</td>\n",
              "      <td>3.0</td>\n",
              "      <td>11.0</td>\n",
              "      <td>0.149107</td>\n",
              "    </tr>\n",
              "    <tr>\n",
              "      <th>std</th>\n",
              "      <td>3246.662198</td>\n",
              "      <td>11.984069</td>\n",
              "      <td>25173.076661</td>\n",
              "      <td>0.538398</td>\n",
              "      <td>0.544538</td>\n",
              "      <td>28.962453</td>\n",
              "      <td>336.597393</td>\n",
              "      <td>39.773434</td>\n",
              "      <td>225.715373</td>\n",
              "      <td>54.628979</td>\n",
              "      <td>...</td>\n",
              "      <td>2.426645</td>\n",
              "      <td>0.259813</td>\n",
              "      <td>0.262728</td>\n",
              "      <td>0.259813</td>\n",
              "      <td>0.245316</td>\n",
              "      <td>0.114976</td>\n",
              "      <td>0.096391</td>\n",
              "      <td>0.0</td>\n",
              "      <td>0.0</td>\n",
              "      <td>0.356274</td>\n",
              "    </tr>\n",
              "    <tr>\n",
              "      <th>min</th>\n",
              "      <td>0.000000</td>\n",
              "      <td>1893.000000</td>\n",
              "      <td>1730.000000</td>\n",
              "      <td>0.000000</td>\n",
              "      <td>0.000000</td>\n",
              "      <td>0.000000</td>\n",
              "      <td>0.000000</td>\n",
              "      <td>0.000000</td>\n",
              "      <td>0.000000</td>\n",
              "      <td>0.000000</td>\n",
              "      <td>...</td>\n",
              "      <td>0.000000</td>\n",
              "      <td>0.000000</td>\n",
              "      <td>0.000000</td>\n",
              "      <td>0.000000</td>\n",
              "      <td>0.000000</td>\n",
              "      <td>0.000000</td>\n",
              "      <td>0.000000</td>\n",
              "      <td>3.0</td>\n",
              "      <td>11.0</td>\n",
              "      <td>0.000000</td>\n",
              "    </tr>\n",
              "    <tr>\n",
              "      <th>25%</th>\n",
              "      <td>2828.250000</td>\n",
              "      <td>1959.000000</td>\n",
              "      <td>35303.000000</td>\n",
              "      <td>0.000000</td>\n",
              "      <td>0.000000</td>\n",
              "      <td>24.000000</td>\n",
              "      <td>23.750000</td>\n",
              "      <td>1.000000</td>\n",
              "      <td>16.000000</td>\n",
              "      <td>3.000000</td>\n",
              "      <td>...</td>\n",
              "      <td>3.000000</td>\n",
              "      <td>0.000000</td>\n",
              "      <td>0.000000</td>\n",
              "      <td>0.000000</td>\n",
              "      <td>0.000000</td>\n",
              "      <td>0.000000</td>\n",
              "      <td>0.000000</td>\n",
              "      <td>3.0</td>\n",
              "      <td>11.0</td>\n",
              "      <td>0.000000</td>\n",
              "    </tr>\n",
              "    <tr>\n",
              "      <th>50%</th>\n",
              "      <td>5458.500000</td>\n",
              "      <td>1970.000000</td>\n",
              "      <td>51381.500000</td>\n",
              "      <td>0.000000</td>\n",
              "      <td>0.000000</td>\n",
              "      <td>49.000000</td>\n",
              "      <td>173.500000</td>\n",
              "      <td>8.000000</td>\n",
              "      <td>67.000000</td>\n",
              "      <td>12.000000</td>\n",
              "      <td>...</td>\n",
              "      <td>6.000000</td>\n",
              "      <td>0.000000</td>\n",
              "      <td>0.000000</td>\n",
              "      <td>0.000000</td>\n",
              "      <td>0.000000</td>\n",
              "      <td>0.000000</td>\n",
              "      <td>0.000000</td>\n",
              "      <td>3.0</td>\n",
              "      <td>11.0</td>\n",
              "      <td>0.000000</td>\n",
              "    </tr>\n",
              "    <tr>\n",
              "      <th>75%</th>\n",
              "      <td>8427.750000</td>\n",
              "      <td>1977.000000</td>\n",
              "      <td>68522.000000</td>\n",
              "      <td>1.000000</td>\n",
              "      <td>1.000000</td>\n",
              "      <td>74.000000</td>\n",
              "      <td>504.250000</td>\n",
              "      <td>33.000000</td>\n",
              "      <td>232.000000</td>\n",
              "      <td>50.000000</td>\n",
              "      <td>...</td>\n",
              "      <td>7.000000</td>\n",
              "      <td>0.000000</td>\n",
              "      <td>0.000000</td>\n",
              "      <td>0.000000</td>\n",
              "      <td>0.000000</td>\n",
              "      <td>0.000000</td>\n",
              "      <td>0.000000</td>\n",
              "      <td>3.0</td>\n",
              "      <td>11.0</td>\n",
              "      <td>0.000000</td>\n",
              "    </tr>\n",
              "    <tr>\n",
              "      <th>max</th>\n",
              "      <td>11191.000000</td>\n",
              "      <td>1996.000000</td>\n",
              "      <td>666666.000000</td>\n",
              "      <td>2.000000</td>\n",
              "      <td>2.000000</td>\n",
              "      <td>99.000000</td>\n",
              "      <td>1493.000000</td>\n",
              "      <td>199.000000</td>\n",
              "      <td>1725.000000</td>\n",
              "      <td>259.000000</td>\n",
              "      <td>...</td>\n",
              "      <td>20.000000</td>\n",
              "      <td>1.000000</td>\n",
              "      <td>1.000000</td>\n",
              "      <td>1.000000</td>\n",
              "      <td>1.000000</td>\n",
              "      <td>1.000000</td>\n",
              "      <td>1.000000</td>\n",
              "      <td>3.0</td>\n",
              "      <td>11.0</td>\n",
              "      <td>1.000000</td>\n",
              "    </tr>\n",
              "  </tbody>\n",
              "</table>\n",
              "<p>8 rows × 26 columns</p>\n",
              "</div>"
            ],
            "text/plain": [
              "                 ID   Year_Birth         Income      Kidhome     Teenhome  \\\n",
              "count   2240.000000  2240.000000    2216.000000  2240.000000  2240.000000   \n",
              "mean    5592.159821  1968.805804   52247.251354     0.444196     0.506250   \n",
              "std     3246.662198    11.984069   25173.076661     0.538398     0.544538   \n",
              "min        0.000000  1893.000000    1730.000000     0.000000     0.000000   \n",
              "25%     2828.250000  1959.000000   35303.000000     0.000000     0.000000   \n",
              "50%     5458.500000  1970.000000   51381.500000     0.000000     0.000000   \n",
              "75%     8427.750000  1977.000000   68522.000000     1.000000     1.000000   \n",
              "max    11191.000000  1996.000000  666666.000000     2.000000     2.000000   \n",
              "\n",
              "           Recency     MntWines    MntFruits  MntMeatProducts  \\\n",
              "count  2240.000000  2240.000000  2240.000000      2240.000000   \n",
              "mean     49.109375   303.935714    26.302232       166.950000   \n",
              "std      28.962453   336.597393    39.773434       225.715373   \n",
              "min       0.000000     0.000000     0.000000         0.000000   \n",
              "25%      24.000000    23.750000     1.000000        16.000000   \n",
              "50%      49.000000   173.500000     8.000000        67.000000   \n",
              "75%      74.000000   504.250000    33.000000       232.000000   \n",
              "max      99.000000  1493.000000   199.000000      1725.000000   \n",
              "\n",
              "       MntFishProducts  ...  NumWebVisitsMonth  AcceptedCmp3  AcceptedCmp4  \\\n",
              "count      2240.000000  ...        2240.000000   2240.000000   2240.000000   \n",
              "mean         37.525446  ...           5.316518      0.072768      0.074554   \n",
              "std          54.628979  ...           2.426645      0.259813      0.262728   \n",
              "min           0.000000  ...           0.000000      0.000000      0.000000   \n",
              "25%           3.000000  ...           3.000000      0.000000      0.000000   \n",
              "50%          12.000000  ...           6.000000      0.000000      0.000000   \n",
              "75%          50.000000  ...           7.000000      0.000000      0.000000   \n",
              "max         259.000000  ...          20.000000      1.000000      1.000000   \n",
              "\n",
              "       AcceptedCmp5  AcceptedCmp1  AcceptedCmp2     Complain  Z_CostContact  \\\n",
              "count   2240.000000   2240.000000   2240.000000  2240.000000         2240.0   \n",
              "mean       0.072768      0.064286      0.013393     0.009375            3.0   \n",
              "std        0.259813      0.245316      0.114976     0.096391            0.0   \n",
              "min        0.000000      0.000000      0.000000     0.000000            3.0   \n",
              "25%        0.000000      0.000000      0.000000     0.000000            3.0   \n",
              "50%        0.000000      0.000000      0.000000     0.000000            3.0   \n",
              "75%        0.000000      0.000000      0.000000     0.000000            3.0   \n",
              "max        1.000000      1.000000      1.000000     1.000000            3.0   \n",
              "\n",
              "       Z_Revenue     Response  \n",
              "count     2240.0  2240.000000  \n",
              "mean        11.0     0.149107  \n",
              "std          0.0     0.356274  \n",
              "min         11.0     0.000000  \n",
              "25%         11.0     0.000000  \n",
              "50%         11.0     0.000000  \n",
              "75%         11.0     0.000000  \n",
              "max         11.0     1.000000  \n",
              "\n",
              "[8 rows x 26 columns]"
            ]
          },
          "execution_count": 5,
          "metadata": {},
          "output_type": "execute_result"
        }
      ],
      "source": [
        "df.describe()"
      ]
    },
    {
      "cell_type": "markdown",
      "metadata": {
        "id": "E_J_ErmQGzWl"
      },
      "source": [
        "4. Show the data type of each column"
      ]
    },
    {
      "cell_type": "code",
      "execution_count": 6,
      "metadata": {
        "colab": {
          "base_uri": "https://localhost:8080/"
        },
        "id": "BYxCi5DLGsvI",
        "outputId": "90efe000-25d1-4f10-ed22-0655f4b07030"
      },
      "outputs": [
        {
          "name": "stdout",
          "output_type": "stream",
          "text": [
            "Data types of all columns:\n"
          ]
        },
        {
          "data": {
            "text/plain": [
              "ID                       int64\n",
              "Year_Birth               int64\n",
              "Education               object\n",
              "Marital_Status          object\n",
              "Income                 float64\n",
              "Kidhome                  int64\n",
              "Teenhome                 int64\n",
              "Dt_Customer             object\n",
              "Recency                  int64\n",
              "MntWines                 int64\n",
              "MntFruits                int64\n",
              "MntMeatProducts          int64\n",
              "MntFishProducts          int64\n",
              "MntSweetProducts         int64\n",
              "MntGoldProds             int64\n",
              "NumDealsPurchases        int64\n",
              "NumWebPurchases          int64\n",
              "NumCatalogPurchases      int64\n",
              "NumStorePurchases        int64\n",
              "NumWebVisitsMonth        int64\n",
              "AcceptedCmp3             int64\n",
              "AcceptedCmp4             int64\n",
              "AcceptedCmp5             int64\n",
              "AcceptedCmp1             int64\n",
              "AcceptedCmp2             int64\n",
              "Complain                 int64\n",
              "Z_CostContact            int64\n",
              "Z_Revenue                int64\n",
              "Response                 int64\n",
              "dtype: object"
            ]
          },
          "execution_count": 6,
          "metadata": {},
          "output_type": "execute_result"
        }
      ],
      "source": [
        "print(\"Data types of all columns:\")\n",
        "df.dtypes"
      ]
    },
    {
      "cell_type": "markdown",
      "metadata": {
        "id": "yQA1nqnCH-Ld"
      },
      "source": [
        "5. Show how many columns and rows in your data."
      ]
    },
    {
      "cell_type": "code",
      "execution_count": 7,
      "metadata": {
        "colab": {
          "base_uri": "https://localhost:8080/"
        },
        "id": "oDC_tMiWH78P",
        "outputId": "3e6be846-2ed6-4692-ddba-dae147f7b9f3"
      },
      "outputs": [
        {
          "name": "stdout",
          "output_type": "stream",
          "text": [
            "Number of rows: 2240\n",
            "Number of columns: 29\n"
          ]
        }
      ],
      "source": [
        "rows = df.shape[0] # number of rows in the dataframe\n",
        "columns = df.shape[1] # number of columns in the dataframe\n",
        "print(f\"Number of rows: {rows}\")\n",
        "print(f\"Number of columns: {columns}\")"
      ]
    },
    {
      "cell_type": "markdown",
      "metadata": {
        "id": "PZoXc9ZQIZpF"
      },
      "source": [
        "6. Show the list of columns in your data frame."
      ]
    },
    {
      "cell_type": "code",
      "execution_count": 8,
      "metadata": {
        "colab": {
          "base_uri": "https://localhost:8080/"
        },
        "id": "q7nvwz_UIE2T",
        "outputId": "425693b2-bfa5-44a9-b6b4-663f1b3f21bb"
      },
      "outputs": [
        {
          "name": "stdout",
          "output_type": "stream",
          "text": [
            "List of columns:\n"
          ]
        },
        {
          "data": {
            "text/plain": [
              "['ID',\n",
              " 'Year_Birth',\n",
              " 'Education',\n",
              " 'Marital_Status',\n",
              " 'Income',\n",
              " 'Kidhome',\n",
              " 'Teenhome',\n",
              " 'Dt_Customer',\n",
              " 'Recency',\n",
              " 'MntWines',\n",
              " 'MntFruits',\n",
              " 'MntMeatProducts',\n",
              " 'MntFishProducts',\n",
              " 'MntSweetProducts',\n",
              " 'MntGoldProds',\n",
              " 'NumDealsPurchases',\n",
              " 'NumWebPurchases',\n",
              " 'NumCatalogPurchases',\n",
              " 'NumStorePurchases',\n",
              " 'NumWebVisitsMonth',\n",
              " 'AcceptedCmp3',\n",
              " 'AcceptedCmp4',\n",
              " 'AcceptedCmp5',\n",
              " 'AcceptedCmp1',\n",
              " 'AcceptedCmp2',\n",
              " 'Complain',\n",
              " 'Z_CostContact',\n",
              " 'Z_Revenue',\n",
              " 'Response']"
            ]
          },
          "execution_count": 8,
          "metadata": {},
          "output_type": "execute_result"
        }
      ],
      "source": [
        "columns_list = df.columns.tolist() # convert the column names to a list\n",
        "print(\"List of columns:\")\n",
        "columns_list"
      ]
    },
    {
      "cell_type": "markdown",
      "metadata": {
        "id": "W-zWlsXXIkX0"
      },
      "source": [
        "7. Show the number of duplicated rows in your data."
      ]
    },
    {
      "cell_type": "code",
      "execution_count": 9,
      "metadata": {
        "colab": {
          "base_uri": "https://localhost:8080/"
        },
        "id": "lscPUqh4IcYP",
        "outputId": "b4f317b9-11db-4057-d2c2-0fef9d93dd38"
      },
      "outputs": [
        {
          "name": "stdout",
          "output_type": "stream",
          "text": [
            "The number of duplicate rows is: 0\n"
          ]
        }
      ],
      "source": [
        "duplicate_count = df.duplicated().sum() # count the number of duplicate rows\n",
        "print(f\"The number of duplicate rows is: {duplicate_count}\")"
      ]
    },
    {
      "cell_type": "markdown",
      "metadata": {
        "id": "Sd4cnRnrJa3b"
      },
      "source": [
        "# **Part II: Data Preparation and Cleaning**\n",
        "8. Rename the columns belonging to Products by removing Mnt from them.\n",
        "- a. You should have: 'Wines','Fruits','Meat','Fish','Sweet','Gold'"
      ]
    },
    {
      "cell_type": "code",
      "execution_count": 10,
      "metadata": {},
      "outputs": [
        {
          "data": {
            "text/plain": [
              "Index(['ID', 'Year_Birth', 'Education', 'Marital_Status', 'Income', 'Kidhome',\n",
              "       'Teenhome', 'Dt_Customer', 'Recency', 'MntWines', 'MntFruits',\n",
              "       'MntMeatProducts', 'MntFishProducts', 'MntSweetProducts',\n",
              "       'MntGoldProds', 'NumDealsPurchases', 'NumWebPurchases',\n",
              "       'NumCatalogPurchases', 'NumStorePurchases', 'NumWebVisitsMonth',\n",
              "       'AcceptedCmp3', 'AcceptedCmp4', 'AcceptedCmp5', 'AcceptedCmp1',\n",
              "       'AcceptedCmp2', 'Complain', 'Z_CostContact', 'Z_Revenue', 'Response'],\n",
              "      dtype='object')"
            ]
          },
          "execution_count": 10,
          "metadata": {},
          "output_type": "execute_result"
        }
      ],
      "source": [
        "df.columns"
      ]
    },
    {
      "cell_type": "code",
      "execution_count": 11,
      "metadata": {
        "colab": {
          "base_uri": "https://localhost:8080/",
          "height": 206
        },
        "id": "UfkCE5s6I16l",
        "outputId": "9175d6ba-f542-4f84-8a12-2e0d321da36c"
      },
      "outputs": [
        {
          "data": {
            "text/html": [
              "<div>\n",
              "<style scoped>\n",
              "    .dataframe tbody tr th:only-of-type {\n",
              "        vertical-align: middle;\n",
              "    }\n",
              "\n",
              "    .dataframe tbody tr th {\n",
              "        vertical-align: top;\n",
              "    }\n",
              "\n",
              "    .dataframe thead th {\n",
              "        text-align: right;\n",
              "    }\n",
              "</style>\n",
              "<table border=\"1\" class=\"dataframe\">\n",
              "  <thead>\n",
              "    <tr style=\"text-align: right;\">\n",
              "      <th></th>\n",
              "      <th>Wines</th>\n",
              "      <th>Fruits</th>\n",
              "      <th>Meat</th>\n",
              "      <th>Fish</th>\n",
              "      <th>Sweet</th>\n",
              "      <th>Gold</th>\n",
              "    </tr>\n",
              "  </thead>\n",
              "  <tbody>\n",
              "    <tr>\n",
              "      <th>0</th>\n",
              "      <td>635</td>\n",
              "      <td>88</td>\n",
              "      <td>546</td>\n",
              "      <td>172</td>\n",
              "      <td>88</td>\n",
              "      <td>88</td>\n",
              "    </tr>\n",
              "    <tr>\n",
              "      <th>1</th>\n",
              "      <td>11</td>\n",
              "      <td>1</td>\n",
              "      <td>6</td>\n",
              "      <td>2</td>\n",
              "      <td>1</td>\n",
              "      <td>6</td>\n",
              "    </tr>\n",
              "    <tr>\n",
              "      <th>2</th>\n",
              "      <td>426</td>\n",
              "      <td>49</td>\n",
              "      <td>127</td>\n",
              "      <td>111</td>\n",
              "      <td>21</td>\n",
              "      <td>42</td>\n",
              "    </tr>\n",
              "    <tr>\n",
              "      <th>3</th>\n",
              "      <td>11</td>\n",
              "      <td>4</td>\n",
              "      <td>20</td>\n",
              "      <td>10</td>\n",
              "      <td>3</td>\n",
              "      <td>5</td>\n",
              "    </tr>\n",
              "    <tr>\n",
              "      <th>4</th>\n",
              "      <td>173</td>\n",
              "      <td>43</td>\n",
              "      <td>118</td>\n",
              "      <td>46</td>\n",
              "      <td>27</td>\n",
              "      <td>15</td>\n",
              "    </tr>\n",
              "  </tbody>\n",
              "</table>\n",
              "</div>"
            ],
            "text/plain": [
              "   Wines  Fruits  Meat  Fish  Sweet  Gold\n",
              "0    635      88   546   172     88    88\n",
              "1     11       1     6     2      1     6\n",
              "2    426      49   127   111     21    42\n",
              "3     11       4    20    10      3     5\n",
              "4    173      43   118    46     27    15"
            ]
          },
          "execution_count": 11,
          "metadata": {},
          "output_type": "execute_result"
        }
      ],
      "source": [
        "columns_to_rename = ['MntWines', 'MntFruits', 'MntMeatProducts', 'MntFishProducts', 'MntSweetProducts', 'MntGoldProds']\n",
        "new_column_names = ['Wines', 'Fruits', 'Meat', 'Fish', 'Sweet', 'Gold']\n",
        "dfm = df.copy() # creating a copy of the original dataframe\n",
        "dfm.rename(columns=dict(zip(columns_to_rename, new_column_names)), inplace=True) # renaming the columns\n",
        "dfm[new_column_names].head()"
      ]
    },
    {
      "cell_type": "markdown",
      "metadata": {
        "id": "y6k34QntKoZU"
      },
      "source": [
        "9. Rename the columnsbelonging to Place by removing Num and Purchases from them.\n",
        "a. You should have: 'Web ','Catalog', 'Store'"
      ]
    },
    {
      "cell_type": "code",
      "execution_count": 12,
      "metadata": {},
      "outputs": [
        {
          "data": {
            "text/plain": [
              "Index(['ID', 'Year_Birth', 'Education', 'Marital_Status', 'Income', 'Kidhome',\n",
              "       'Teenhome', 'Dt_Customer', 'Recency', 'MntWines', 'MntFruits',\n",
              "       'MntMeatProducts', 'MntFishProducts', 'MntSweetProducts',\n",
              "       'MntGoldProds', 'NumDealsPurchases', 'NumWebPurchases',\n",
              "       'NumCatalogPurchases', 'NumStorePurchases', 'NumWebVisitsMonth',\n",
              "       'AcceptedCmp3', 'AcceptedCmp4', 'AcceptedCmp5', 'AcceptedCmp1',\n",
              "       'AcceptedCmp2', 'Complain', 'Z_CostContact', 'Z_Revenue', 'Response'],\n",
              "      dtype='object')"
            ]
          },
          "execution_count": 12,
          "metadata": {},
          "output_type": "execute_result"
        }
      ],
      "source": [
        "df.columns"
      ]
    },
    {
      "cell_type": "code",
      "execution_count": 13,
      "metadata": {
        "colab": {
          "base_uri": "https://localhost:8080/",
          "height": 206
        },
        "id": "p2YaTzs4J2zF",
        "outputId": "8939de80-eb58-4bb7-fe63-a667a6901d44"
      },
      "outputs": [
        {
          "data": {
            "text/html": [
              "<div>\n",
              "<style scoped>\n",
              "    .dataframe tbody tr th:only-of-type {\n",
              "        vertical-align: middle;\n",
              "    }\n",
              "\n",
              "    .dataframe tbody tr th {\n",
              "        vertical-align: top;\n",
              "    }\n",
              "\n",
              "    .dataframe thead th {\n",
              "        text-align: right;\n",
              "    }\n",
              "</style>\n",
              "<table border=\"1\" class=\"dataframe\">\n",
              "  <thead>\n",
              "    <tr style=\"text-align: right;\">\n",
              "      <th></th>\n",
              "      <th>Web</th>\n",
              "      <th>Catalog</th>\n",
              "      <th>Store</th>\n",
              "    </tr>\n",
              "  </thead>\n",
              "  <tbody>\n",
              "    <tr>\n",
              "      <th>0</th>\n",
              "      <td>8</td>\n",
              "      <td>10</td>\n",
              "      <td>4</td>\n",
              "    </tr>\n",
              "    <tr>\n",
              "      <th>1</th>\n",
              "      <td>1</td>\n",
              "      <td>1</td>\n",
              "      <td>2</td>\n",
              "    </tr>\n",
              "    <tr>\n",
              "      <th>2</th>\n",
              "      <td>8</td>\n",
              "      <td>2</td>\n",
              "      <td>10</td>\n",
              "    </tr>\n",
              "    <tr>\n",
              "      <th>3</th>\n",
              "      <td>2</td>\n",
              "      <td>0</td>\n",
              "      <td>4</td>\n",
              "    </tr>\n",
              "    <tr>\n",
              "      <th>4</th>\n",
              "      <td>5</td>\n",
              "      <td>3</td>\n",
              "      <td>6</td>\n",
              "    </tr>\n",
              "  </tbody>\n",
              "</table>\n",
              "</div>"
            ],
            "text/plain": [
              "   Web  Catalog  Store\n",
              "0    8       10      4\n",
              "1    1        1      2\n",
              "2    8        2     10\n",
              "3    2        0      4\n",
              "4    5        3      6"
            ]
          },
          "execution_count": 13,
          "metadata": {},
          "output_type": "execute_result"
        }
      ],
      "source": [
        "columns_to_rename = ['NumWebPurchases', 'NumCatalogPurchases', 'NumStorePurchases']\n",
        "new_column_names = ['Web', 'Catalog', 'Store']  # Corrected column names needed to rename\n",
        "dfm.rename(columns=dict(zip(columns_to_rename, new_column_names)), inplace=True)\n",
        "dfm[new_column_names].head()"
      ]
    },
    {
      "cell_type": "markdown",
      "metadata": {
        "id": "6QyhHtQoLbIu"
      },
      "source": [
        "10. Keep only NumDealsPurchases column in the Promotion section"
      ]
    },
    {
      "cell_type": "markdown",
      "metadata": {},
      "source": [
        "**Needs Review question unclear**"
      ]
    },
    {
      "cell_type": "code",
      "execution_count": 14,
      "metadata": {
        "colab": {
          "base_uri": "https://localhost:8080/",
          "height": 206
        },
        "id": "P46M3OdaJ3ot",
        "outputId": "b6577457-15a1-4184-d30b-80c63860ebc6"
      },
      "outputs": [
        {
          "data": {
            "text/html": [
              "<div>\n",
              "<style scoped>\n",
              "    .dataframe tbody tr th:only-of-type {\n",
              "        vertical-align: middle;\n",
              "    }\n",
              "\n",
              "    .dataframe tbody tr th {\n",
              "        vertical-align: top;\n",
              "    }\n",
              "\n",
              "    .dataframe thead th {\n",
              "        text-align: right;\n",
              "    }\n",
              "</style>\n",
              "<table border=\"1\" class=\"dataframe\">\n",
              "  <thead>\n",
              "    <tr style=\"text-align: right;\">\n",
              "      <th></th>\n",
              "      <th>NumDealsPurchases</th>\n",
              "    </tr>\n",
              "  </thead>\n",
              "  <tbody>\n",
              "    <tr>\n",
              "      <th>0</th>\n",
              "      <td>3</td>\n",
              "    </tr>\n",
              "    <tr>\n",
              "      <th>1</th>\n",
              "      <td>2</td>\n",
              "    </tr>\n",
              "    <tr>\n",
              "      <th>2</th>\n",
              "      <td>1</td>\n",
              "    </tr>\n",
              "    <tr>\n",
              "      <th>3</th>\n",
              "      <td>2</td>\n",
              "    </tr>\n",
              "    <tr>\n",
              "      <th>4</th>\n",
              "      <td>5</td>\n",
              "    </tr>\n",
              "  </tbody>\n",
              "</table>\n",
              "</div>"
            ],
            "text/plain": [
              "   NumDealsPurchases\n",
              "0                  3\n",
              "1                  2\n",
              "2                  1\n",
              "3                  2\n",
              "4                  5"
            ]
          },
          "execution_count": 14,
          "metadata": {},
          "output_type": "execute_result"
        }
      ],
      "source": [
        "columns_to_keep = ['NumDealsPurchases']\n",
        "dfm[columns_to_keep].head()"
      ]
    },
    {
      "cell_type": "markdown",
      "metadata": {
        "id": "5Dl2KiWCLkSS"
      },
      "source": [
        "11. Delete the column NumWebVisitsMonth"
      ]
    },
    {
      "cell_type": "code",
      "execution_count": 15,
      "metadata": {
        "id": "f6Tk-8GYLdbm"
      },
      "outputs": [],
      "source": [
        "columns_to_delete = ['NumWebVisitsMonth']\n",
        "dfm['NumWebVisitsMonth'].head()\n",
        "dfm.drop(columns=columns_to_delete, inplace=True)\n",
        "# dfm['NumWebVisitsMonth'].head()"
      ]
    },
    {
      "cell_type": "markdown",
      "metadata": {
        "id": "TGAZ4Nu3OZfS"
      },
      "source": [
        "12. The attribute Year_Birth is not helpful to segment your data. Instead create a new derived column named Age."
      ]
    },
    {
      "cell_type": "code",
      "execution_count": 16,
      "metadata": {},
      "outputs": [
        {
          "data": {
            "text/plain": [
              "0       1957\n",
              "1       1954\n",
              "2       1965\n",
              "3       1984\n",
              "4       1981\n",
              "        ... \n",
              "2235    1967\n",
              "2236    1946\n",
              "2237    1981\n",
              "2238    1956\n",
              "2239    1954\n",
              "Name: Year_Birth, Length: 2240, dtype: int64"
            ]
          },
          "execution_count": 16,
          "metadata": {},
          "output_type": "execute_result"
        }
      ],
      "source": [
        "dfm['Year_Birth']"
      ]
    },
    {
      "cell_type": "code",
      "execution_count": 17,
      "metadata": {},
      "outputs": [
        {
          "data": {
            "text/plain": [
              "0    67\n",
              "1    70\n",
              "2    59\n",
              "3    40\n",
              "4    43\n",
              "Name: Age, dtype: int64"
            ]
          },
          "execution_count": 17,
          "metadata": {},
          "output_type": "execute_result"
        }
      ],
      "source": [
        "import datetime\n",
        "current_year = datetime.datetime.now().year # getting the current year\n",
        "dfm['Age'] = current_year - dfm['Year_Birth'] # calculating the age (current year - year of birth)\n",
        "dfm['Age'].head() # displaying the first 5 rows of the 'Age' column"
      ]
    },
    {
      "cell_type": "markdown",
      "metadata": {
        "id": "f9jRtUCJOucS"
      },
      "source": [
        "13. Create a new column named Spending that holds the total amount spent on all products categories."
      ]
    },
    {
      "cell_type": "code",
      "execution_count": 18,
      "metadata": {
        "colab": {
          "base_uri": "https://localhost:8080/",
          "height": 241
        },
        "id": "MnBRQJkTOcvU",
        "outputId": "d99519bb-d0f3-4e56-a409-4f0c71dda8fd"
      },
      "outputs": [
        {
          "data": {
            "text/plain": [
              "0    1617\n",
              "1      27\n",
              "2     776\n",
              "3      53\n",
              "4     422\n",
              "Name: Spending, dtype: int64"
            ]
          },
          "execution_count": 18,
          "metadata": {},
          "output_type": "execute_result"
        }
      ],
      "source": [
        "dfm['Spending'] = dfm['Wines'] + dfm['Fruits'] + dfm['Meat'] + dfm['Fish'] + dfm['Sweet'] + dfm['Gold']\n",
        "dfm['Spending'].head()"
      ]
    },
    {
      "cell_type": "markdown",
      "metadata": {
        "id": "bMDJZWYIPFkf"
      },
      "source": [
        "14. Change the Dt_Customer type from object to datetime. Use the format YYYY-MM-DD."
      ]
    },
    {
      "cell_type": "code",
      "execution_count": 19,
      "metadata": {},
      "outputs": [
        {
          "data": {
            "text/plain": [
              "0       04-09-2012\n",
              "1       08-03-2014\n",
              "2       21-08-2013\n",
              "3       10-02-2014\n",
              "4       19-01-2014\n",
              "           ...    \n",
              "2235    13-06-2013\n",
              "2236    10-06-2014\n",
              "2237    25-01-2014\n",
              "2238    24-01-2014\n",
              "2239    15-10-2012\n",
              "Name: Dt_Customer, Length: 2240, dtype: object"
            ]
          },
          "execution_count": 19,
          "metadata": {},
          "output_type": "execute_result"
        }
      ],
      "source": [
        "dfm['Dt_Customer']"
      ]
    },
    {
      "cell_type": "code",
      "execution_count": 20,
      "metadata": {
        "colab": {
          "base_uri": "https://localhost:8080/",
          "height": 241
        },
        "id": "Ed6YN9VtPIWM",
        "outputId": "5226b912-8fcd-4047-96ad-ac4ece1582c1"
      },
      "outputs": [
        {
          "data": {
            "text/plain": [
              "0   2012-09-04\n",
              "1   2014-03-08\n",
              "2   2013-08-21\n",
              "3   2014-02-10\n",
              "4   2014-01-19\n",
              "Name: Dt_Customer, dtype: datetime64[ns]"
            ]
          },
          "execution_count": 20,
          "metadata": {},
          "output_type": "execute_result"
        }
      ],
      "source": [
        "# Convert the 'Dt_Customer' column to datetime format \n",
        "dfm['Dt_Customer'] = pd.to_datetime(dfm['Dt_Customer'], format='%d-%m-%Y')\n",
        "dfm['Dt_Customer'].head()"
      ]
    },
    {
      "cell_type": "markdown",
      "metadata": {
        "id": "wwD9-RA_kUMo"
      },
      "source": [
        "15. Show the unique values of the column data Marital_Status."
      ]
    },
    {
      "cell_type": "code",
      "execution_count": 21,
      "metadata": {},
      "outputs": [
        {
          "name": "stdout",
          "output_type": "stream",
          "text": [
            "The unique values in the 'Marital_Status' column are:\n",
            "['Single' 'Together' 'Married' 'Divorced' 'Widow' 'Alone' 'Absurd' 'YOLO']\n"
          ]
        }
      ],
      "source": [
        "print(\"The unique values in the 'Marital_Status' column are:\")\n",
        "print(dfm['Marital_Status'].unique())"
      ]
    },
    {
      "cell_type": "code",
      "execution_count": 22,
      "metadata": {
        "colab": {
          "base_uri": "https://localhost:8080/"
        },
        "id": "v8oCKg-XkFxk",
        "outputId": "c78897e3-c2b1-4eb4-f226-40d6fdb024ba"
      },
      "outputs": [],
      "source": [
        "# columns = ['Marital_Status']\n",
        "# unique_values = df[columns].apply(lambda x: x.unique())\n",
        "# print(unique_values)"
      ]
    },
    {
      "cell_type": "markdown",
      "metadata": {
        "id": "W-NJCv1Lkg9V"
      },
      "source": [
        "16. It is better to work with lower categorical values. Hence, we’ll classify customers in two segments for\n",
        "their martial status: change the column Marital status as follows:\n",
        "- a. Change the values: Divorced, Single, Absurd and Widow to 'Alone'\n",
        "- b. Change Married and Together to 'Not Alone'"
      ]
    },
    {
      "cell_type": "code",
      "execution_count": 23,
      "metadata": {
        "colab": {
          "base_uri": "https://localhost:8080/",
          "height": 241
        },
        "id": "CkJn6aBDkeRt",
        "outputId": "9084088f-f8de-426e-cd9c-69aa3365614d"
      },
      "outputs": [
        {
          "data": {
            "text/plain": [
              "0        Alone\n",
              "1        Alone\n",
              "2    Not Alone\n",
              "3    Not Alone\n",
              "4    Not Alone\n",
              "Name: Marital_Status, dtype: object"
            ]
          },
          "execution_count": 23,
          "metadata": {},
          "output_type": "execute_result"
        }
      ],
      "source": [
        "new_values = {\n",
        "    'Divorced': 'Alone',\n",
        "    'Single': 'Alone',\n",
        "    'Absurd': 'Alone',\n",
        "    'Widow': 'Alone',\n",
        "    'Married': 'Not Alone',\n",
        "    'Together': 'Not Alone'\n",
        "}\n",
        "\n",
        "dfm['Marital_Status'] = dfm['Marital_Status'].replace(new_values)\n",
        "dfm['Marital_Status'].head()"
      ]
    },
    {
      "cell_type": "markdown",
      "metadata": {
        "id": "qWBCuQuglDNP"
      },
      "source": [
        "17. Show the unique values of the column Education."
      ]
    },
    {
      "cell_type": "code",
      "execution_count": 24,
      "metadata": {},
      "outputs": [
        {
          "name": "stdout",
          "output_type": "stream",
          "text": [
            "The unique values in the 'Education' column are:\n",
            "['Graduation' 'PhD' 'Master' 'Basic' '2n Cycle']\n"
          ]
        }
      ],
      "source": [
        "print(\"The unique values in the 'Education' column are:\")\n",
        "print(dfm['Education'].unique())"
      ]
    },
    {
      "cell_type": "code",
      "execution_count": 25,
      "metadata": {
        "colab": {
          "base_uri": "https://localhost:8080/"
        },
        "id": "0w7-ze7okyxK",
        "outputId": "decf08fe-33c6-4c0b-f81b-7d0648c2cf6b"
      },
      "outputs": [],
      "source": [
        "# columns = ['Education']\n",
        "# unique_values = df[columns].apply(lambda x: x.unique())\n",
        "# print(unique_values)"
      ]
    },
    {
      "cell_type": "markdown",
      "metadata": {
        "id": "xJoAOo0DlI-5"
      },
      "source": [
        "18. We want to segment the customers in 2 groups based on their education level: change the column\n",
        "Education as follows:\n",
        "- a. Change the values: 'Basic' and '2n Cycle' to 'Undergraduate',\n",
        "- b. All other values to 'Postgraduate'"
      ]
    },
    {
      "cell_type": "code",
      "execution_count": 26,
      "metadata": {
        "colab": {
          "base_uri": "https://localhost:8080/",
          "height": 330
        },
        "id": "qMIX7bqOlFR7",
        "outputId": "4bde6ebc-f83a-4fe0-d6fe-9f70fce8c21b"
      },
      "outputs": [
        {
          "name": "stderr",
          "output_type": "stream",
          "text": [
            "C:\\Users\\sudha\\AppData\\Local\\Temp\\ipykernel_18388\\2372391781.py:7: SettingWithCopyWarning: \n",
            "A value is trying to be set on a copy of a slice from a DataFrame\n",
            "\n",
            "See the caveats in the documentation: https://pandas.pydata.org/pandas-docs/stable/user_guide/indexing.html#returning-a-view-versus-a-copy\n",
            "  dfm['Education'].loc[~dfm['Education'].isin(['Undergraduate'])] = 'Postgraduate'\n"
          ]
        },
        {
          "data": {
            "text/plain": [
              "11    Undergraduate\n",
              "19    Undergraduate\n",
              "37    Undergraduate\n",
              "46    Undergraduate\n",
              "67    Undergraduate\n",
              "Name: Education, dtype: object"
            ]
          },
          "execution_count": 26,
          "metadata": {},
          "output_type": "execute_result"
        }
      ],
      "source": [
        "columns = ['Education']\n",
        "new_values = {\n",
        "    'Basic': 'Undergraduate',\n",
        "    '2n Cycle': 'Undergraduate'\n",
        "}\n",
        "dfm['Education'] = dfm['Education'].replace(new_values)\n",
        "dfm['Education'].loc[~dfm['Education'].isin(['Undergraduate'])] = 'Postgraduate'\n",
        "dfm['Education'].loc[dfm['Education'].isin(['Undergraduate'])].head()"
      ]
    },
    {
      "cell_type": "code",
      "execution_count": 27,
      "metadata": {},
      "outputs": [
        {
          "name": "stdout",
          "output_type": "stream",
          "text": [
            "The unique values in the 'Education' column after replacing values are:\n",
            "['Postgraduate' 'Undergraduate']\n"
          ]
        }
      ],
      "source": [
        "print(\"The unique values in the 'Education' column after replacing values are:\")\n",
        "print(dfm['Education'].unique())"
      ]
    },
    {
      "cell_type": "markdown",
      "metadata": {
        "id": "IzF0oudImIpZ"
      },
      "source": [
        "19. Have a look at column Income. Investigate the presence of outliers? Delete them accordingly."
      ]
    },
    {
      "cell_type": "code",
      "execution_count": 28,
      "metadata": {
        "id": "6oOAU1hslNz2"
      },
      "outputs": [
        {
          "data": {
            "text/html": [
              "<div>\n",
              "<style scoped>\n",
              "    .dataframe tbody tr th:only-of-type {\n",
              "        vertical-align: middle;\n",
              "    }\n",
              "\n",
              "    .dataframe tbody tr th {\n",
              "        vertical-align: top;\n",
              "    }\n",
              "\n",
              "    .dataframe thead th {\n",
              "        text-align: right;\n",
              "    }\n",
              "</style>\n",
              "<table border=\"1\" class=\"dataframe\">\n",
              "  <thead>\n",
              "    <tr style=\"text-align: right;\">\n",
              "      <th></th>\n",
              "      <th>Income</th>\n",
              "    </tr>\n",
              "  </thead>\n",
              "  <tbody>\n",
              "    <tr>\n",
              "      <th>count</th>\n",
              "      <td>2216.000000</td>\n",
              "    </tr>\n",
              "    <tr>\n",
              "      <th>mean</th>\n",
              "      <td>52247.251354</td>\n",
              "    </tr>\n",
              "    <tr>\n",
              "      <th>std</th>\n",
              "      <td>25173.076661</td>\n",
              "    </tr>\n",
              "    <tr>\n",
              "      <th>min</th>\n",
              "      <td>1730.000000</td>\n",
              "    </tr>\n",
              "    <tr>\n",
              "      <th>25%</th>\n",
              "      <td>35303.000000</td>\n",
              "    </tr>\n",
              "    <tr>\n",
              "      <th>50%</th>\n",
              "      <td>51381.500000</td>\n",
              "    </tr>\n",
              "    <tr>\n",
              "      <th>75%</th>\n",
              "      <td>68522.000000</td>\n",
              "    </tr>\n",
              "    <tr>\n",
              "      <th>max</th>\n",
              "      <td>666666.000000</td>\n",
              "    </tr>\n",
              "  </tbody>\n",
              "</table>\n",
              "</div>"
            ],
            "text/plain": [
              "              Income\n",
              "count    2216.000000\n",
              "mean    52247.251354\n",
              "std     25173.076661\n",
              "min      1730.000000\n",
              "25%     35303.000000\n",
              "50%     51381.500000\n",
              "75%     68522.000000\n",
              "max    666666.000000"
            ]
          },
          "execution_count": 28,
          "metadata": {},
          "output_type": "execute_result"
        }
      ],
      "source": [
        "columns = ['Income']\n",
        "dfm[columns].describe()\n",
        "#\n",
        "# columns_to_delete = ['Income']\n",
        "# dfm.drop(columns=columns_to_delete, inplace=True)"
      ]
    },
    {
      "cell_type": "code",
      "execution_count": 29,
      "metadata": {},
      "outputs": [
        {
          "data": {
            "image/png": "[encoded data removed]",
            "text/plain": [
              "<Figure size 640x480 with 1 Axes>"
            ]
          },
          "metadata": {},
          "output_type": "display_data"
        }
      ],
      "source": [
        "# checking for outliers in the income using boxplot\n",
        "\n",
        "sns.boxplot(dfm['Income'])\n",
        "\n",
        "plt.show()"
      ]
    },
    {
      "cell_type": "code",
      "execution_count": 30,
      "metadata": {},
      "outputs": [
        {
          "data": {
            "text/plain": [
              "<Axes: ylabel='Income'>"
            ]
          },
          "execution_count": 30,
          "metadata": {},
          "output_type": "execute_result"
        },
        {
          "data": {
            "image/png": "[encoded data removed]",
            "text/plain": [
              "<Figure size 640x480 with 1 Axes>"
            ]
          },
          "metadata": {},
          "output_type": "display_data"
        }
      ],
      "source": [
        "# removing the outliers using IQR method\n",
        "q1 = dfm['Income'].quantile(0.25)\n",
        "q3 = dfm['Income'].quantile(0.75)\n",
        "iqr = q3 - q1\n",
        "dfm = dfm[(dfm['Income'] >= q1 - 1.5 * iqr) & (dfm['Income'] <= q3 + 1.5 * iqr)]\n",
        "\n",
        "sns.boxplot(dfm['Income'])"
      ]
    },
    {
      "cell_type": "markdown",
      "metadata": {
        "id": "H0yqtz8_m80N"
      },
      "source": [
        "20. Show quick statistics for the column Income."
      ]
    },
    {
      "cell_type": "code",
      "execution_count": 31,
      "metadata": {
        "colab": {
          "base_uri": "https://localhost:8080/",
          "height": 300
        },
        "id": "v634gIqfmLfI",
        "outputId": "c0e440d8-b326-454b-85d5-126a9109e695"
      },
      "outputs": [
        {
          "data": {
            "text/html": [
              "<div>\n",
              "<style scoped>\n",
              "    .dataframe tbody tr th:only-of-type {\n",
              "        vertical-align: middle;\n",
              "    }\n",
              "\n",
              "    .dataframe tbody tr th {\n",
              "        vertical-align: top;\n",
              "    }\n",
              "\n",
              "    .dataframe thead th {\n",
              "        text-align: right;\n",
              "    }\n",
              "</style>\n",
              "<table border=\"1\" class=\"dataframe\">\n",
              "  <thead>\n",
              "    <tr style=\"text-align: right;\">\n",
              "      <th></th>\n",
              "      <th>Income</th>\n",
              "    </tr>\n",
              "  </thead>\n",
              "  <tbody>\n",
              "    <tr>\n",
              "      <th>count</th>\n",
              "      <td>2216.000000</td>\n",
              "    </tr>\n",
              "    <tr>\n",
              "      <th>mean</th>\n",
              "      <td>52247.251354</td>\n",
              "    </tr>\n",
              "    <tr>\n",
              "      <th>std</th>\n",
              "      <td>25173.076661</td>\n",
              "    </tr>\n",
              "    <tr>\n",
              "      <th>min</th>\n",
              "      <td>1730.000000</td>\n",
              "    </tr>\n",
              "    <tr>\n",
              "      <th>25%</th>\n",
              "      <td>35303.000000</td>\n",
              "    </tr>\n",
              "    <tr>\n",
              "      <th>50%</th>\n",
              "      <td>51381.500000</td>\n",
              "    </tr>\n",
              "    <tr>\n",
              "      <th>75%</th>\n",
              "      <td>68522.000000</td>\n",
              "    </tr>\n",
              "    <tr>\n",
              "      <th>max</th>\n",
              "      <td>666666.000000</td>\n",
              "    </tr>\n",
              "  </tbody>\n",
              "</table>\n",
              "</div>"
            ],
            "text/plain": [
              "              Income\n",
              "count    2216.000000\n",
              "mean    52247.251354\n",
              "std     25173.076661\n",
              "min      1730.000000\n",
              "25%     35303.000000\n",
              "50%     51381.500000\n",
              "75%     68522.000000\n",
              "max    666666.000000"
            ]
          },
          "execution_count": 31,
          "metadata": {},
          "output_type": "execute_result"
        }
      ],
      "source": [
        "columns = ['Income']\n",
        "df[columns].describe()\n",
        "# dfm[columns].describe() # error the column was delete"
      ]
    },
    {
      "cell_type": "markdown",
      "metadata": {
        "id": "828-lxPcnXiG"
      },
      "source": [
        "21. Show the number of missing values for each column."
      ]
    },
    {
      "cell_type": "code",
      "execution_count": 32,
      "metadata": {
        "colab": {
          "base_uri": "https://localhost:8080/"
        },
        "id": "f3SUmDE2m_x5",
        "outputId": "9a36f193-6521-4fc7-dc6b-3a8b2e6407bb"
      },
      "outputs": [
        {
          "name": "stdout",
          "output_type": "stream",
          "text": [
            "ID                      0\n",
            "Year_Birth              0\n",
            "Education               0\n",
            "Marital_Status          0\n",
            "Income                 24\n",
            "Kidhome                 0\n",
            "Teenhome                0\n",
            "Dt_Customer             0\n",
            "Recency                 0\n",
            "MntWines                0\n",
            "MntFruits               0\n",
            "MntMeatProducts         0\n",
            "MntFishProducts         0\n",
            "MntSweetProducts        0\n",
            "MntGoldProds            0\n",
            "NumDealsPurchases       0\n",
            "NumWebPurchases         0\n",
            "NumCatalogPurchases     0\n",
            "NumStorePurchases       0\n",
            "NumWebVisitsMonth       0\n",
            "AcceptedCmp3            0\n",
            "AcceptedCmp4            0\n",
            "AcceptedCmp5            0\n",
            "AcceptedCmp1            0\n",
            "AcceptedCmp2            0\n",
            "Complain                0\n",
            "Z_CostContact           0\n",
            "Z_Revenue               0\n",
            "Response                0\n",
            "dtype: int64\n"
          ]
        }
      ],
      "source": [
        "columns = df.columns\n",
        "missing_values = df[columns].isnull().sum()\n",
        "print(missing_values)"
      ]
    },
    {
      "cell_type": "markdown",
      "metadata": {
        "id": "jkrB0UmzncSy"
      },
      "source": [
        "22. Fill the missing values with the average."
      ]
    },
    {
      "cell_type": "code",
      "execution_count": 33,
      "metadata": {
        "colab": {
          "base_uri": "https://localhost:8080/",
          "height": 424
        },
        "id": "sjm5QbLDnaHA",
        "outputId": "b4ba2dff-884b-4ee8-f9dd-129cc4d807c8"
      },
      "outputs": [
        {
          "name": "stdout",
          "output_type": "stream",
          "text": [
            "The missing value in the 'Income' column is: 0\n"
          ]
        }
      ],
      "source": [
        "columns = ['Income']\n",
        "df[columns] = df[columns].fillna(df[columns].mean())\n",
        "print(f\"The missing value in the 'Income' column is: {df['Income'].isnull().sum()}\")"
      ]
    },
    {
      "cell_type": "markdown",
      "metadata": {},
      "source": [
        "**Here**"
      ]
    },
    {
      "cell_type": "markdown",
      "metadata": {
        "id": "yTiiVkkhn2Tf"
      },
      "source": [
        "23. Create a new column named Children to hold the total number of children for every customer."
      ]
    },
    {
      "cell_type": "code",
      "execution_count": 34,
      "metadata": {
        "colab": {
          "base_uri": "https://localhost:8080/",
          "height": 241
        },
        "id": "KV2BY9T1ngom",
        "outputId": "a1e082a0-0915-476f-df18-c33f624793fc"
      },
      "outputs": [
        {
          "data": {
            "text/plain": [
              "0    0\n",
              "1    2\n",
              "2    0\n",
              "3    1\n",
              "4    1\n",
              "Name: Children, dtype: int64"
            ]
          },
          "execution_count": 34,
          "metadata": {},
          "output_type": "execute_result"
        }
      ],
      "source": [
        "new_column_name = 'Children'\n",
        "dfm[new_column_name] = dfm['Kidhome'] + dfm['Teenhome']\n",
        "dfm[new_column_name].head()"
      ]
    },
    {
      "cell_type": "markdown",
      "metadata": {
        "id": "sUY_J2oHn9Bm"
      },
      "source": [
        "24. Create a new column Has_Complaint as follows:\n",
        "- a. 'Has complaint' if the customer complained in the last 2 years,\n",
        "- b. Otherwise 'No complaint'"
      ]
    },
    {
      "cell_type": "code",
      "execution_count": 38,
      "metadata": {
        "colab": {
          "base_uri": "https://localhost:8080/",
          "height": 241
        },
        "id": "2y1hSN7En4Oz",
        "outputId": "78ac09bb-715e-4ef8-fa12-936dc9d42c5c"
      },
      "outputs": [
        {
          "data": {
            "text/plain": [
              "0    No complaint\n",
              "1    No complaint\n",
              "2    No complaint\n",
              "3    No complaint\n",
              "4    No complaint\n",
              "Name: Has_Complaint, dtype: object"
            ]
          },
          "execution_count": 38,
          "metadata": {},
          "output_type": "execute_result"
        }
      ],
      "source": [
        "columns = ['Complain']\n",
        "dfm['Has_Complaint'] = dfm['Complain'].apply(lambda x: 'Has complaint' if x == 1 else 'No complaint')\n",
        "dfm['Has_Complaint'].head()"
      ]
    },
    {
      "cell_type": "code",
      "execution_count": 39,
      "metadata": {
        "colab": {
          "base_uri": "https://localhost:8080/",
          "height": 241
        },
        "id": "JNQLwjGRoBpq",
        "outputId": "ff61c307-edce-433c-9b0c-d8baf8fa6ef2"
      },
      "outputs": [
        {
          "data": {
            "text/plain": [
              "0    No complaint\n",
              "1    No complaint\n",
              "2    No complaint\n",
              "3    No complaint\n",
              "4    No complaint\n",
              "Name: Has_Complaint, dtype: object"
            ]
          },
          "execution_count": 39,
          "metadata": {},
          "output_type": "execute_result"
        }
      ],
      "source": [
        "dfm['Has_Complaint'].head()"
      ]
    },
    {
      "cell_type": "markdown",
      "metadata": {
        "id": "dD4oBExboK0B"
      },
      "source": [
        "25. Show the first 5 rows of customers with ‘No complaint"
      ]
    },
    {
      "cell_type": "code",
      "execution_count": 41,
      "metadata": {},
      "outputs": [
        {
          "data": {
            "text/html": [
              "<div>\n",
              "<style scoped>\n",
              "    .dataframe tbody tr th:only-of-type {\n",
              "        vertical-align: middle;\n",
              "    }\n",
              "\n",
              "    .dataframe tbody tr th {\n",
              "        vertical-align: top;\n",
              "    }\n",
              "\n",
              "    .dataframe thead th {\n",
              "        text-align: right;\n",
              "    }\n",
              "</style>\n",
              "<table border=\"1\" class=\"dataframe\">\n",
              "  <thead>\n",
              "    <tr style=\"text-align: right;\">\n",
              "      <th></th>\n",
              "      <th>ID</th>\n",
              "      <th>Year_Birth</th>\n",
              "      <th>Education</th>\n",
              "      <th>Marital_Status</th>\n",
              "      <th>Income</th>\n",
              "      <th>Kidhome</th>\n",
              "      <th>Teenhome</th>\n",
              "      <th>Dt_Customer</th>\n",
              "      <th>Recency</th>\n",
              "      <th>Wines</th>\n",
              "      <th>...</th>\n",
              "      <th>AcceptedCmp1</th>\n",
              "      <th>AcceptedCmp2</th>\n",
              "      <th>Complain</th>\n",
              "      <th>Z_CostContact</th>\n",
              "      <th>Z_Revenue</th>\n",
              "      <th>Response</th>\n",
              "      <th>Age</th>\n",
              "      <th>Spending</th>\n",
              "      <th>Children</th>\n",
              "      <th>Has_Complaint</th>\n",
              "    </tr>\n",
              "  </thead>\n",
              "  <tbody>\n",
              "    <tr>\n",
              "      <th>0</th>\n",
              "      <td>5524</td>\n",
              "      <td>1957</td>\n",
              "      <td>Postgraduate</td>\n",
              "      <td>Alone</td>\n",
              "      <td>58138.0</td>\n",
              "      <td>0</td>\n",
              "      <td>0</td>\n",
              "      <td>2012-09-04</td>\n",
              "      <td>58</td>\n",
              "      <td>635</td>\n",
              "      <td>...</td>\n",
              "      <td>0</td>\n",
              "      <td>0</td>\n",
              "      <td>0</td>\n",
              "      <td>3</td>\n",
              "      <td>11</td>\n",
              "      <td>1</td>\n",
              "      <td>67</td>\n",
              "      <td>1617</td>\n",
              "      <td>0</td>\n",
              "      <td>No complaint</td>\n",
              "    </tr>\n",
              "    <tr>\n",
              "      <th>1</th>\n",
              "      <td>2174</td>\n",
              "      <td>1954</td>\n",
              "      <td>Postgraduate</td>\n",
              "      <td>Alone</td>\n",
              "      <td>46344.0</td>\n",
              "      <td>1</td>\n",
              "      <td>1</td>\n",
              "      <td>2014-03-08</td>\n",
              "      <td>38</td>\n",
              "      <td>11</td>\n",
              "      <td>...</td>\n",
              "      <td>0</td>\n",
              "      <td>0</td>\n",
              "      <td>0</td>\n",
              "      <td>3</td>\n",
              "      <td>11</td>\n",
              "      <td>0</td>\n",
              "      <td>70</td>\n",
              "      <td>27</td>\n",
              "      <td>2</td>\n",
              "      <td>No complaint</td>\n",
              "    </tr>\n",
              "    <tr>\n",
              "      <th>2</th>\n",
              "      <td>4141</td>\n",
              "      <td>1965</td>\n",
              "      <td>Postgraduate</td>\n",
              "      <td>Not Alone</td>\n",
              "      <td>71613.0</td>\n",
              "      <td>0</td>\n",
              "      <td>0</td>\n",
              "      <td>2013-08-21</td>\n",
              "      <td>26</td>\n",
              "      <td>426</td>\n",
              "      <td>...</td>\n",
              "      <td>0</td>\n",
              "      <td>0</td>\n",
              "      <td>0</td>\n",
              "      <td>3</td>\n",
              "      <td>11</td>\n",
              "      <td>0</td>\n",
              "      <td>59</td>\n",
              "      <td>776</td>\n",
              "      <td>0</td>\n",
              "      <td>No complaint</td>\n",
              "    </tr>\n",
              "    <tr>\n",
              "      <th>3</th>\n",
              "      <td>6182</td>\n",
              "      <td>1984</td>\n",
              "      <td>Postgraduate</td>\n",
              "      <td>Not Alone</td>\n",
              "      <td>26646.0</td>\n",
              "      <td>1</td>\n",
              "      <td>0</td>\n",
              "      <td>2014-02-10</td>\n",
              "      <td>26</td>\n",
              "      <td>11</td>\n",
              "      <td>...</td>\n",
              "      <td>0</td>\n",
              "      <td>0</td>\n",
              "      <td>0</td>\n",
              "      <td>3</td>\n",
              "      <td>11</td>\n",
              "      <td>0</td>\n",
              "      <td>40</td>\n",
              "      <td>53</td>\n",
              "      <td>1</td>\n",
              "      <td>No complaint</td>\n",
              "    </tr>\n",
              "    <tr>\n",
              "      <th>4</th>\n",
              "      <td>5324</td>\n",
              "      <td>1981</td>\n",
              "      <td>Postgraduate</td>\n",
              "      <td>Not Alone</td>\n",
              "      <td>58293.0</td>\n",
              "      <td>1</td>\n",
              "      <td>0</td>\n",
              "      <td>2014-01-19</td>\n",
              "      <td>94</td>\n",
              "      <td>173</td>\n",
              "      <td>...</td>\n",
              "      <td>0</td>\n",
              "      <td>0</td>\n",
              "      <td>0</td>\n",
              "      <td>3</td>\n",
              "      <td>11</td>\n",
              "      <td>0</td>\n",
              "      <td>43</td>\n",
              "      <td>422</td>\n",
              "      <td>1</td>\n",
              "      <td>No complaint</td>\n",
              "    </tr>\n",
              "  </tbody>\n",
              "</table>\n",
              "<p>5 rows × 32 columns</p>\n",
              "</div>"
            ],
            "text/plain": [
              "     ID  Year_Birth     Education Marital_Status   Income  Kidhome  Teenhome  \\\n",
              "0  5524        1957  Postgraduate          Alone  58138.0        0         0   \n",
              "1  2174        1954  Postgraduate          Alone  46344.0        1         1   \n",
              "2  4141        1965  Postgraduate      Not Alone  71613.0        0         0   \n",
              "3  6182        1984  Postgraduate      Not Alone  26646.0        1         0   \n",
              "4  5324        1981  Postgraduate      Not Alone  58293.0        1         0   \n",
              "\n",
              "  Dt_Customer  Recency  Wines  ...  AcceptedCmp1  AcceptedCmp2  Complain  \\\n",
              "0  2012-09-04       58    635  ...             0             0         0   \n",
              "1  2014-03-08       38     11  ...             0             0         0   \n",
              "2  2013-08-21       26    426  ...             0             0         0   \n",
              "3  2014-02-10       26     11  ...             0             0         0   \n",
              "4  2014-01-19       94    173  ...             0             0         0   \n",
              "\n",
              "   Z_CostContact  Z_Revenue  Response  Age  Spending  Children  Has_Complaint  \n",
              "0              3         11         1   67      1617         0   No complaint  \n",
              "1              3         11         0   70        27         2   No complaint  \n",
              "2              3         11         0   59       776         0   No complaint  \n",
              "3              3         11         0   40        53         1   No complaint  \n",
              "4              3         11         0   43       422         1   No complaint  \n",
              "\n",
              "[5 rows x 32 columns]"
            ]
          },
          "execution_count": 41,
          "metadata": {},
          "output_type": "execute_result"
        }
      ],
      "source": [
        "dfm[dfm['Has_Complaint'] == 'No complaint'].head()"
      ]
    },
    {
      "cell_type": "markdown",
      "metadata": {},
      "source": [
        "## Part III: Data Visualization & Analytics"
      ]
    },
    {
      "cell_type": "code",
      "execution_count": null,
      "metadata": {},
      "outputs": [],
      "source": []
    }
  ],
  "metadata": {
    "colab": {
      "provenance": []
    },
    "kernelspec": {
      "display_name": "Python 3",
      "name": "python3"
    },
    "language_info": {
      "codemirror_mode": {
        "name": "ipython",
        "version": 3
      },
      "file_extension": ".py",
      "mimetype": "text/x-python",
      "name": "python",
      "nbconvert_exporter": "python",
      "pygments_lexer": "ipython3",
      "version": "3.10.0"
    }
  },
  "nbformat": 4,
  "nbformat_minor": 0
}
